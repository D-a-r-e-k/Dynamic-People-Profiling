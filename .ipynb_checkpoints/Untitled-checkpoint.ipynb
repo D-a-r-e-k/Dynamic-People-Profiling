{
 "cells": [
  {
   "cell_type": "code",
   "execution_count": 1,
   "metadata": {},
   "outputs": [],
   "source": [
    "import requests\n",
    "import pandas as pd\n",
    "import json"
   ]
  },
  {
   "cell_type": "code",
   "execution_count": 2,
   "metadata": {},
   "outputs": [],
   "source": [
    "def api_call_data(time_start_end_tup):\n",
    "    print(time_start_end_tup)\n",
    "    time_start = time_start_end_tup[0]\n",
    "    time_end = time_start_end_tup[1]\n",
    "    begin = \"2019-08-01T12:00:00Z\"\n",
    "    end = \"2019-08-01T12:01:00Z\"\n",
    "    url = \"https://api.hypr.cl/raw/\"\n",
    "    headers = {\n",
    "     'x-api-key': \"iQ0WKQlv3a7VqVSKG6BlE9IQ88bUYQws6UZLRs1B\",\n",
    "     'time_start': time_start, 'time_stop': time_end, 'Accept': \"*/*\",\n",
    "     'Cache-Control': \"no-cache\", 'Host': \"api.hypr.cl\",\n",
    "     'Accept-Encoding': \"gzip, deflate\",\n",
    "     'Content-Length': \"0\", 'Connection': \"keep-alive\",\n",
    "     'cache-control': \"no-cache\" }\n",
    "    response = requests.request(\"POST\", url, headers=headers)\n",
    "    df_raw = pd.DataFrame(json.loads(response.text)['raw'])\n",
    "    df_raw.to_csv(f'Data/raw_data_{begin.replace(\":\", \"\").replace(\"-\", \"\")}.csv')\n",
    "    return df_raw"
   ]
  },
  {
   "cell_type": "code",
   "execution_count": 3,
   "metadata": {},
   "outputs": [],
   "source": [
    "from multiprocessing import Pool, TimeoutError"
   ]
  },
  {
   "cell_type": "code",
   "execution_count": 4,
   "metadata": {},
   "outputs": [],
   "source": [
    "pool = Pool(3)"
   ]
  },
  {
   "cell_type": "code",
   "execution_count": 8,
   "metadata": {},
   "outputs": [],
   "source": [
    "from datetime import datetime, timedelta\n"
   ]
  },
  {
   "cell_type": "code",
   "execution_count": null,
   "metadata": {},
   "outputs": [],
   "source": [
    "start = \"2019-08-01T12:00:00Z\"\n",
    "time_array = [datetime.strptime(start, '%Y-%m-%dT%H:%M:%SZ') + timedelta(minutes=i+1) for i in range(1439)]"
   ]
  },
  {
   "cell_type": "code",
   "execution_count": 5,
   "metadata": {},
   "outputs": [],
   "source": [
    "data = [(\"2019-08-01T12:00:00Z\", \"2019-08-01T12:01:00Z\"),\n",
    "        (\"2019-08-01T12:01:00Z\", \"2019-08-01T12:02:00Z\"),\n",
    "        (\"2019-08-01T12:02:00Z\", \"2019-08-01T12:03:00Z\")]"
   ]
  },
  {
   "cell_type": "code",
   "execution_count": 6,
   "metadata": {},
   "outputs": [
    {
     "name": "stdout",
     "output_type": "stream",
     "text": [
      "('2019-08-01T12:00:00Z', '2019-08-01T12:01:00Z')\n",
      "('2019-08-01T12:01:00Z', '2019-08-01T12:02:00Z')\n",
      "('2019-08-01T12:02:00Z', '2019-08-01T12:03:00Z')\n"
     ]
    }
   ],
   "source": [
    "for d in data:\n",
    "    api_call_data(d)"
   ]
  },
  {
   "cell_type": "code",
   "execution_count": null,
   "metadata": {},
   "outputs": [],
   "source": [
    "t = pool.map(api_call_data, data)"
   ]
  },
  {
   "cell_type": "code",
   "execution_count": null,
   "metadata": {},
   "outputs": [],
   "source": [
    "pool.close()\n",
    "pool.join()"
   ]
  },
  {
   "cell_type": "code",
   "execution_count": 4,
   "metadata": {},
   "outputs": [
    {
     "data": {
      "text/html": [
       "<div>\n",
       "<style scoped>\n",
       "    .dataframe tbody tr th:only-of-type {\n",
       "        vertical-align: middle;\n",
       "    }\n",
       "\n",
       "    .dataframe tbody tr th {\n",
       "        vertical-align: top;\n",
       "    }\n",
       "\n",
       "    .dataframe thead th {\n",
       "        text-align: right;\n",
       "    }\n",
       "</style>\n",
       "<table border=\"1\" class=\"dataframe\">\n",
       "  <thead>\n",
       "    <tr style=\"text-align: right;\">\n",
       "      <th></th>\n",
       "      <th>time</th>\n",
       "      <th>hash</th>\n",
       "      <th>latitude</th>\n",
       "      <th>longitude</th>\n",
       "      <th>serial</th>\n",
       "      <th>distance</th>\n",
       "    </tr>\n",
       "  </thead>\n",
       "  <tbody>\n",
       "    <tr>\n",
       "      <th>0</th>\n",
       "      <td>2019-08-01T12:00:00Z</td>\n",
       "      <td>144afc51fc2443c7031a2912566eff2ce60226a49d6d2b...</td>\n",
       "      <td>60.16544</td>\n",
       "      <td>24.95398</td>\n",
       "      <td>0000000038d83d41</td>\n",
       "      <td>17.40</td>\n",
       "    </tr>\n",
       "    <tr>\n",
       "      <th>1</th>\n",
       "      <td>2019-08-01T12:00:00Z</td>\n",
       "      <td>14c7e1511b70f4dd3359cbece1377aebb4d70531f5489e...</td>\n",
       "      <td>60.16544</td>\n",
       "      <td>24.95398</td>\n",
       "      <td>0000000038d83d41</td>\n",
       "      <td>27.28</td>\n",
       "    </tr>\n",
       "    <tr>\n",
       "      <th>2</th>\n",
       "      <td>2019-08-01T12:00:00Z</td>\n",
       "      <td>165ebbb4090d47319ae370f0d0854fdc1f6b79499f8b2e...</td>\n",
       "      <td>60.16544</td>\n",
       "      <td>24.95398</td>\n",
       "      <td>0000000038d83d41</td>\n",
       "      <td>27.28</td>\n",
       "    </tr>\n",
       "    <tr>\n",
       "      <th>3</th>\n",
       "      <td>2019-08-01T12:00:00Z</td>\n",
       "      <td>18167fae09beb238eb0a355497a7cd8695b98c6f1838c1...</td>\n",
       "      <td>60.15380</td>\n",
       "      <td>24.95595</td>\n",
       "      <td>0000000038bf9618</td>\n",
       "      <td>21.87</td>\n",
       "    </tr>\n",
       "    <tr>\n",
       "      <th>4</th>\n",
       "      <td>2019-08-01T12:00:00Z</td>\n",
       "      <td>225b201dfd9c44747634aa0dd031c09fded36df2879982...</td>\n",
       "      <td>60.16829</td>\n",
       "      <td>24.94214</td>\n",
       "      <td>00000000afef4555</td>\n",
       "      <td>16.10</td>\n",
       "    </tr>\n",
       "    <tr>\n",
       "      <th>...</th>\n",
       "      <td>...</td>\n",
       "      <td>...</td>\n",
       "      <td>...</td>\n",
       "      <td>...</td>\n",
       "      <td>...</td>\n",
       "      <td>...</td>\n",
       "    </tr>\n",
       "    <tr>\n",
       "      <th>21572</th>\n",
       "      <td>2019-08-01T12:01:00Z</td>\n",
       "      <td>fa7bc1cdbe4434cdc389ae61e7ddc2728689e46a2478c9...</td>\n",
       "      <td>60.16531</td>\n",
       "      <td>24.94420</td>\n",
       "      <td>00000000fdda10fe</td>\n",
       "      <td>29.32</td>\n",
       "    </tr>\n",
       "    <tr>\n",
       "      <th>21573</th>\n",
       "      <td>2019-08-01T12:01:00Z</td>\n",
       "      <td>fbec32e4201af1ae448aa987a760bacd6904d96c0f2452...</td>\n",
       "      <td>60.16629</td>\n",
       "      <td>24.95957</td>\n",
       "      <td>00000000fb7600be</td>\n",
       "      <td>23.56</td>\n",
       "    </tr>\n",
       "    <tr>\n",
       "      <th>21574</th>\n",
       "      <td>2019-08-01T12:01:00Z</td>\n",
       "      <td>fc27d285f70e4b7478c968fe77a0adedca4966f6849473...</td>\n",
       "      <td>60.16075</td>\n",
       "      <td>24.95883</td>\n",
       "      <td>00000000f1124bca</td>\n",
       "      <td>11.70</td>\n",
       "    </tr>\n",
       "    <tr>\n",
       "      <th>21575</th>\n",
       "      <td>2019-08-01T12:01:00Z</td>\n",
       "      <td>fed2154eab23e65924dc5c461c308ea63f044f56133fea...</td>\n",
       "      <td>60.17919</td>\n",
       "      <td>24.95181</td>\n",
       "      <td>000000007b5207b6</td>\n",
       "      <td>2.08</td>\n",
       "    </tr>\n",
       "    <tr>\n",
       "      <th>21576</th>\n",
       "      <td>2019-08-01T12:01:00Z</td>\n",
       "      <td>ff0b7b8b0851a4adca1dd7de90deb3dab574aa32587806...</td>\n",
       "      <td>60.15432</td>\n",
       "      <td>24.92110</td>\n",
       "      <td>0000000019fb59c4</td>\n",
       "      <td>21.87</td>\n",
       "    </tr>\n",
       "  </tbody>\n",
       "</table>\n",
       "<p>21577 rows × 6 columns</p>\n",
       "</div>"
      ],
      "text/plain": [
       "                       time  \\\n",
       "0      2019-08-01T12:00:00Z   \n",
       "1      2019-08-01T12:00:00Z   \n",
       "2      2019-08-01T12:00:00Z   \n",
       "3      2019-08-01T12:00:00Z   \n",
       "4      2019-08-01T12:00:00Z   \n",
       "...                     ...   \n",
       "21572  2019-08-01T12:01:00Z   \n",
       "21573  2019-08-01T12:01:00Z   \n",
       "21574  2019-08-01T12:01:00Z   \n",
       "21575  2019-08-01T12:01:00Z   \n",
       "21576  2019-08-01T12:01:00Z   \n",
       "\n",
       "                                                    hash  latitude  longitude  \\\n",
       "0      144afc51fc2443c7031a2912566eff2ce60226a49d6d2b...  60.16544   24.95398   \n",
       "1      14c7e1511b70f4dd3359cbece1377aebb4d70531f5489e...  60.16544   24.95398   \n",
       "2      165ebbb4090d47319ae370f0d0854fdc1f6b79499f8b2e...  60.16544   24.95398   \n",
       "3      18167fae09beb238eb0a355497a7cd8695b98c6f1838c1...  60.15380   24.95595   \n",
       "4      225b201dfd9c44747634aa0dd031c09fded36df2879982...  60.16829   24.94214   \n",
       "...                                                  ...       ...        ...   \n",
       "21572  fa7bc1cdbe4434cdc389ae61e7ddc2728689e46a2478c9...  60.16531   24.94420   \n",
       "21573  fbec32e4201af1ae448aa987a760bacd6904d96c0f2452...  60.16629   24.95957   \n",
       "21574  fc27d285f70e4b7478c968fe77a0adedca4966f6849473...  60.16075   24.95883   \n",
       "21575  fed2154eab23e65924dc5c461c308ea63f044f56133fea...  60.17919   24.95181   \n",
       "21576  ff0b7b8b0851a4adca1dd7de90deb3dab574aa32587806...  60.15432   24.92110   \n",
       "\n",
       "                 serial  distance  \n",
       "0      0000000038d83d41     17.40  \n",
       "1      0000000038d83d41     27.28  \n",
       "2      0000000038d83d41     27.28  \n",
       "3      0000000038bf9618     21.87  \n",
       "4      00000000afef4555     16.10  \n",
       "...                 ...       ...  \n",
       "21572  00000000fdda10fe     29.32  \n",
       "21573  00000000fb7600be     23.56  \n",
       "21574  00000000f1124bca     11.70  \n",
       "21575  000000007b5207b6      2.08  \n",
       "21576  0000000019fb59c4     21.87  \n",
       "\n",
       "[21577 rows x 6 columns]"
      ]
     },
     "execution_count": 4,
     "metadata": {},
     "output_type": "execute_result"
    }
   ],
   "source": [
    "#api_call_data(\"2019-08-01T12:00:00Z\", \"2019-08-01T12:01:00Z\")"
   ]
  },
  {
   "cell_type": "code",
   "execution_count": null,
   "metadata": {},
   "outputs": [],
   "source": []
  }
 ],
 "metadata": {
  "kernelspec": {
   "display_name": "Python 3",
   "language": "python",
   "name": "python3"
  },
  "language_info": {
   "codemirror_mode": {
    "name": "ipython",
    "version": 3
   },
   "file_extension": ".py",
   "mimetype": "text/x-python",
   "name": "python",
   "nbconvert_exporter": "python",
   "pygments_lexer": "ipython3",
   "version": "3.6.0"
  }
 },
 "nbformat": 4,
 "nbformat_minor": 2
}
