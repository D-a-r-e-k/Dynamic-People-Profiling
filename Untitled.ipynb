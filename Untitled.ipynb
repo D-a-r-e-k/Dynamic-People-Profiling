{
 "cells": [
  {
   "cell_type": "code",
   "execution_count": 14,
   "metadata": {},
   "outputs": [
    {
     "data": {
      "text/plain": [
       "4211619"
      ]
     },
     "execution_count": 14,
     "metadata": {},
     "output_type": "execute_result"
    }
   ],
   "source": [
    "import requests\n",
    "url = \"https://api.hypr.cl/raw/\"\n",
    "headers = {\n",
    " 'x-api-key': \"iQ0WKQlv3a7VqVSKG6BlE9IQ88bUYQws6UZLRs1B\",\n",
    " 'time_start': \"2019-08-01T12:00:00Z\", 'time_stop': \"2019-08-01T12:01:00Z\", 'Accept': \"*/*\",\n",
    " 'Cache-Control': \"no-cache\", 'Host': \"api.hypr.cl\",\n",
    " 'Accept-Encoding': \"gzip, deflate\",\n",
    " 'Content-Length': \"0\", 'Connection': \"keep-alive\",\n",
    " 'cache-control': \"no-cache\" }\n",
    "response = requests.request(\"POST\", url, headers=headers)\n",
    "len(response.text)"
   ]
  },
  {
   "cell_type": "code",
   "execution_count": 26,
   "metadata": {},
   "outputs": [],
   "source": [
    "import pandas as pd\n",
    "import json"
   ]
  },
  {
   "cell_type": "code",
   "execution_count": 40,
   "metadata": {},
   "outputs": [
    {
     "data": {
      "text/plain": [
       "\"[{'time': '2019-08-01T12:00:00Z', 'hash': '144afc51fc2443c7031a2912566eff2ce60226a49d6d2bd7c2923700', 'latitude': 60.16544, 'longitude': 24.95398, 'serial': '0000000038d83d41', 'distance': 17.4}, {'time': '2019-08-01T12:00:00Z', 'hash': '14c7e1511b70f4dd3359cbece1377aebb4d70531f5489eefe53d7c3c', 'latitude': 60.16544, 'longitude': 24.95398, 'serial': '0000000038d83d41', 'distance': 27.28}, {'time': '2019-08-01T12:00:00Z', 'hash': '165ebbb4090d47319ae370f0d0854fdc1f6b79499f8b2e4d3c3533c0', 'latitude': 60.16544, 'longitude': 24.95398, 'serial': '0000000038d83d41', 'distance': 27.28}, {'time': '2019-08-01T12:00:00Z', 'hash': '18167fae09beb238eb0a355497a7cd8695b98c6f1838c1b4e00ff89a', 'latitude': 60.1538, 'longitude': 24.95595, 'serial': '0000000038bf9618', 'distance': 21.87}, {'time': '2019-08-01T12:00:00Z', 'hash': '225b201dfd9c44747634aa0dd031c09fded36df2879982cce6d22b82', 'latitude': 60.16829, 'longitude': 24.94214, 'serial': '00000000afef4555', 'distance': 16.1}, {'time': '2019-08-01T12:00:00Z', 'hash': '2681becf1795042fa372c89e61856da5519a49a90e230f1a8dba8ba9', 'latitude': 60.16448, 'longitude': 24.97323, 'serial': '0000000053c6c2be', 'distance': 25.36}, {'time': '2019-08-01T12:00:00Z', 'hash': '2a93b61a3863ace54349d7a0937e4134fcc6d4dfcf064eefae2b7cf8', 'latitude': 60.15432, 'longitude': 24.9211, 'serial': '0000000019fb59c4', 'distance': 16.1}, {'time': '2019-08-01T12:00:00Z', 'hash': '2cbdb709bb456bc8bca60a86bfa0fd9e979051582401008738e2db26', 'latitude': 60.16897, 'longitude': 24.95222, 'serial': '00000000aa852af1', 'distance': 21.87}, {'time': '2019-08-01T12:00:00Z', 'hash': '2efd972897e318100638d8474e49f7d4cbfb4d97c6ee232a20a417e2', 'latitude': 60.16897, 'longitude': 24.95222, 'serial': '00000000aa852af1', 'distance': 18.79}, {'time': '2019-08-01T12:00:00Z', 'hash': '35c6573a3fdd07d91dacb331df71f349703fbecb50875602452d3b83', 'latitude': 60.16762, 'longitude': 24.95415, 'serial': '000000006b44cce7', 'distance': 4.5}]\""
      ]
     },
     "execution_count": 40,
     "metadata": {},
     "output_type": "execute_result"
    }
   ],
   "source": []
  },
  {
   "cell_type": "code",
   "execution_count": 43,
   "metadata": {},
   "outputs": [
    {
     "ename": "ValueError",
     "evalue": "Invalid file path or buffer object type: <class 'list'>",
     "output_type": "error",
     "traceback": [
      "\u001b[1;31m---------------------------------------------------------------------------\u001b[0m",
      "\u001b[1;31mValueError\u001b[0m                                Traceback (most recent call last)",
      "\u001b[1;32m<ipython-input-43-c5653454ac92>\u001b[0m in \u001b[0;36m<module>\u001b[1;34m\u001b[0m\n\u001b[1;32m----> 1\u001b[1;33m \u001b[0mpd\u001b[0m\u001b[1;33m.\u001b[0m\u001b[0mread_json\u001b[0m\u001b[1;33m(\u001b[0m\u001b[0mjson\u001b[0m\u001b[1;33m.\u001b[0m\u001b[0mloads\u001b[0m\u001b[1;33m(\u001b[0m\u001b[0mresponse\u001b[0m\u001b[1;33m.\u001b[0m\u001b[0mtext\u001b[0m\u001b[1;33m)\u001b[0m\u001b[1;33m[\u001b[0m\u001b[1;34m'raw'\u001b[0m\u001b[1;33m]\u001b[0m\u001b[1;33m[\u001b[0m\u001b[1;33m:\u001b[0m\u001b[1;36m10\u001b[0m\u001b[1;33m]\u001b[0m\u001b[1;33m,\u001b[0m \u001b[0morient\u001b[0m\u001b[1;33m=\u001b[0m\u001b[1;34m'records'\u001b[0m\u001b[1;33m)\u001b[0m\u001b[1;33m\u001b[0m\u001b[0m\n\u001b[0m",
      "\u001b[1;32mc:\\users\\modestasj\\appdata\\local\\programs\\python\\python36\\lib\\site-packages\\pandas\\io\\json\\_json.py\u001b[0m in \u001b[0;36mread_json\u001b[1;34m(path_or_buf, orient, typ, dtype, convert_axes, convert_dates, keep_default_dates, numpy, precise_float, date_unit, encoding, lines, chunksize, compression)\u001b[0m\n\u001b[0;32m    567\u001b[0m     \u001b[0mcompression\u001b[0m \u001b[1;33m=\u001b[0m \u001b[0m_infer_compression\u001b[0m\u001b[1;33m(\u001b[0m\u001b[0mpath_or_buf\u001b[0m\u001b[1;33m,\u001b[0m \u001b[0mcompression\u001b[0m\u001b[1;33m)\u001b[0m\u001b[1;33m\u001b[0m\u001b[0m\n\u001b[0;32m    568\u001b[0m     filepath_or_buffer, _, compression, should_close = get_filepath_or_buffer(\n\u001b[1;32m--> 569\u001b[1;33m         \u001b[0mpath_or_buf\u001b[0m\u001b[1;33m,\u001b[0m \u001b[0mencoding\u001b[0m\u001b[1;33m=\u001b[0m\u001b[0mencoding\u001b[0m\u001b[1;33m,\u001b[0m \u001b[0mcompression\u001b[0m\u001b[1;33m=\u001b[0m\u001b[0mcompression\u001b[0m\u001b[1;33m\u001b[0m\u001b[0m\n\u001b[0m\u001b[0;32m    570\u001b[0m     )\n\u001b[0;32m    571\u001b[0m \u001b[1;33m\u001b[0m\u001b[0m\n",
      "\u001b[1;32mc:\\users\\modestasj\\appdata\\local\\programs\\python\\python36\\lib\\site-packages\\pandas\\io\\common.py\u001b[0m in \u001b[0;36mget_filepath_or_buffer\u001b[1;34m(filepath_or_buffer, encoding, compression, mode)\u001b[0m\n\u001b[0;32m    222\u001b[0m     \u001b[1;32mif\u001b[0m \u001b[1;32mnot\u001b[0m \u001b[0mis_file_like\u001b[0m\u001b[1;33m(\u001b[0m\u001b[0mfilepath_or_buffer\u001b[0m\u001b[1;33m)\u001b[0m\u001b[1;33m:\u001b[0m\u001b[1;33m\u001b[0m\u001b[0m\n\u001b[0;32m    223\u001b[0m         \u001b[0mmsg\u001b[0m \u001b[1;33m=\u001b[0m \u001b[1;34m\"Invalid file path or buffer object type: {_type}\"\u001b[0m\u001b[1;33m\u001b[0m\u001b[0m\n\u001b[1;32m--> 224\u001b[1;33m         \u001b[1;32mraise\u001b[0m \u001b[0mValueError\u001b[0m\u001b[1;33m(\u001b[0m\u001b[0mmsg\u001b[0m\u001b[1;33m.\u001b[0m\u001b[0mformat\u001b[0m\u001b[1;33m(\u001b[0m\u001b[0m_type\u001b[0m\u001b[1;33m=\u001b[0m\u001b[0mtype\u001b[0m\u001b[1;33m(\u001b[0m\u001b[0mfilepath_or_buffer\u001b[0m\u001b[1;33m)\u001b[0m\u001b[1;33m)\u001b[0m\u001b[1;33m)\u001b[0m\u001b[1;33m\u001b[0m\u001b[0m\n\u001b[0m\u001b[0;32m    225\u001b[0m \u001b[1;33m\u001b[0m\u001b[0m\n\u001b[0;32m    226\u001b[0m     \u001b[1;32mreturn\u001b[0m \u001b[0mfilepath_or_buffer\u001b[0m\u001b[1;33m,\u001b[0m \u001b[1;32mNone\u001b[0m\u001b[1;33m,\u001b[0m \u001b[0mcompression\u001b[0m\u001b[1;33m,\u001b[0m \u001b[1;32mFalse\u001b[0m\u001b[1;33m\u001b[0m\u001b[0m\n",
      "\u001b[1;31mValueError\u001b[0m: Invalid file path or buffer object type: <class 'list'>"
     ]
    }
   ],
   "source": [
    "pd.read_json(json.loads(response.text)['raw'][:10], orient='records')"
   ]
  },
  {
   "cell_type": "code",
   "execution_count": null,
   "metadata": {},
   "outputs": [],
   "source": []
  }
 ],
 "metadata": {
  "kernelspec": {
   "display_name": "Python 3",
   "language": "python",
   "name": "python3"
  },
  "language_info": {
   "codemirror_mode": {
    "name": "ipython",
    "version": 3
   },
   "file_extension": ".py",
   "mimetype": "text/x-python",
   "name": "python",
   "nbconvert_exporter": "python",
   "pygments_lexer": "ipython3",
   "version": "3.6.0"
  }
 },
 "nbformat": 4,
 "nbformat_minor": 2
}
